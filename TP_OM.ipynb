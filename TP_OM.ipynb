{
 "cells": [
  {
   "cell_type": "markdown",
   "id": "d14c2946",
   "metadata": {},
   "source": [
    "# TP Numérique - Étude des Orbitales Moléculaires et Atomiques\n",
    "Ce notebook explore les orbitales atomiques et moléculaires à travers des calculs et des visualisations.\n",
    "\n",
    "## Objectifs :\n",
    "1. Tracer les fonctions radiales des orbitales atomiques (1s, 2s, etc.).\n",
    "2. Étudier les densités de probabilité radiales des orbitales atomiques.\n",
    "3. Calculer et afficher les orbitales moléculaires liante et antiliante le long de l'axe de liaison."
   ]
  },
  {
   "cell_type": "markdown",
   "id": "9deb9447",
   "metadata": {},
   "source": [
    "## Partie 1 : Fonctions radiales des orbitales atomiques\n",
    "\n",
    "Les fonctions radiales décrivent la variation des orbitales atomiques en fonction de la distance $r$ au noyau. Voici les expressions analytiques des fonctions étudiées :\n",
    "- $R_{10}(r)$ : Fonction radiale de l'orbitale 1s\n",
    "\n",
    "$$R_{10}(r) = \\left(\\frac{1}{a_0}\\right)^{\\frac{3}{2}} \\times 2 \\exp(-\\frac{r}{a_0})$$\n",
    "\n",
    "- $R_{20}(r)$ : Fonction radiale de l'orbitale 2s\n",
    "\n",
    "$$R_{20}(r) = \\left(\\frac{1}{a_0}\\right)^{\\frac{3}{2}} \\left(\\frac{1}{2\\sqrt{2}}\\right) \\left(2-\\frac{r}{a_0}\\right) \\exp(-\\frac{r}{2a_0})$$\n",
    "\n",
    "- $R_{21}(r)$ : Fonction radiale de l'orbitale 2p\n",
    "\n",
    "$$R_{21}(r) = \\left(\\frac{1}{a_0}\\right)^{\\frac{3}{2}} \\left(\\frac{1}{2\\sqrt{6}}\\right) \\left(\\frac{r}{a_0}\\right) \\exp(-\\frac{r}{2a_0})$$"
   ]
  },
  {
   "cell_type": "markdown",
   "id": "2aff5cb2",
   "metadata": {},
   "source": [
    "Importez les bibliothèques nécessaires pour tracer les fonctions"
   ]
  },
  {
   "cell_type": "code",
   "execution_count": null,
   "id": "65b07b24",
   "metadata": {},
   "outputs": [],
   "source": [
    "# Votre code ici"
   ]
  },
  {
   "cell_type": "markdown",
   "id": "c16e00b2",
   "metadata": {},
   "source": [
    "Placez-vous en unité $a_0$"
   ]
  },
  {
   "cell_type": "code",
   "execution_count": null,
   "id": "c8f3243d",
   "metadata": {},
   "outputs": [],
   "source": [
    "# Votre code ici"
   ]
  },
  {
   "cell_type": "markdown",
   "id": "675a0bd2",
   "metadata": {},
   "source": [
    "Définissez les fonctions à tracer"
   ]
  },
  {
   "cell_type": "code",
   "execution_count": null,
   "id": "a508eb0b",
   "metadata": {},
   "outputs": [],
   "source": [
    "def R10(r) :\n",
    "    # a completer\n",
    "    return #a completer\n",
    "\n",
    "def R20(r) :\n",
    "    # a completer\n",
    "    return #a completer\n",
    "\n",
    "def R21(r) :\n",
    "    # a completer\n",
    "    return #a completer"
   ]
  },
  {
   "cell_type": "markdown",
   "id": "87e6047d",
   "metadata": {},
   "source": [
    "## Partie 2 : Densité de probabilité radiale\n",
    "\n",
    "La densité de probabilité radiale est définie comme :\n",
    "$$\n",
    "P_{nl}(r) = r^2 |R_{nl}(r)|^2\n",
    "$$\n",
    "Nous allons tracer cette densité pour les orbitales 1s, 2s et 2p$_z$, puis intégrer la densité sur différentes zones pour étudier la probabilité de présence en fonction de $r$."
   ]
  },
  {
   "cell_type": "markdown",
   "id": "7367433d",
   "metadata": {},
   "source": [
    "Pour cela, nous avons besoin de définir une fonction qui calcule la densité de probabilité radile de n'importe quelle fonction radiale $R_nl(r)$.\n",
    "Définir une fonction qui prenne en argument une valeur de $r$ et une fonction Rnl(r) et qui renvoit la densité de probabilité radiale associée à $R_nl(r)$ en ce point."
   ]
  },
  {
   "cell_type": "code",
   "execution_count": null,
   "id": "df6676cb",
   "metadata": {},
   "outputs": [],
   "source": [
    "def densite_de_probabilite_radiale(): # <--- à modifier\n",
    "    # a completer\n",
    "    return # a completer"
   ]
  },
  {
   "cell_type": "markdown",
   "id": "23baacad",
   "metadata": {},
   "source": [
    "Importer les bibliothèque nécessaires à l'intégration de fonctions à 1D."
   ]
  },
  {
   "cell_type": "code",
   "execution_count": null,
   "id": "e868f24b",
   "metadata": {},
   "outputs": [],
   "source": [
    "# Votre code ici"
   ]
  },
  {
   "cell_type": "markdown",
   "id": "8f43128f",
   "metadata": {},
   "source": [
    "Tracer la densité de probabilité radile pour chaque fonction radiale étudiée. Intégrer cette densité de probabilité radiale sur les intervalles qui semblent les plus pertinents."
   ]
  },
  {
   "cell_type": "code",
   "execution_count": null,
   "id": "d7810781",
   "metadata": {},
   "outputs": [],
   "source": [
    "# Tracé pour 1s"
   ]
  },
  {
   "cell_type": "code",
   "execution_count": null,
   "id": "fcc634d3",
   "metadata": {},
   "outputs": [],
   "source": [
    "# Tracé pour 2s"
   ]
  },
  {
   "cell_type": "code",
   "execution_count": null,
   "id": "47af7171",
   "metadata": {},
   "outputs": [],
   "source": [
    "# Tracé pour 2p"
   ]
  },
  {
   "cell_type": "markdown",
   "id": "323bd667",
   "metadata": {},
   "source": [
    "Calculer la probabilité de présence pour chaqune fonction radiale dans les intervalles $[0;2]$, $[3;5]$ et $[4;6]$."
   ]
  },
  {
   "cell_type": "code",
   "execution_count": null,
   "id": "786b8265",
   "metadata": {},
   "outputs": [],
   "source": [
    "# Votre code ici"
   ]
  },
  {
   "cell_type": "markdown",
   "id": "3f6a92ce",
   "metadata": {},
   "source": [
    "## Partie 3 : Orbitales moléculaires liante et antiliante\n",
    "\n",
    "Les orbitales moléculaires sont définies comme suit :\n",
    "- **Orbitale liante** : $\\psi_{\\text{liante}}(z) = R_{10}(r_1) + R_{10}(r_2)$\n",
    "- **Orbitale antiliante** : $\\psi_{\\text{antiliante}}(z) = R_{10}(r_1) - R_{10}(r_2)$\n",
    "où $r_1$ et $r_2$ sont les distances des électrons aux noyaux positionnés à $z = -1$ et $z = +1$."
   ]
  },
  {
   "cell_type": "markdown",
   "id": "d15894c7",
   "metadata": {},
   "source": [
    "Il faut noter que les fonctions dépendent de $r$ et non pas de $z$. Ainsi pour une fonction centrée à une position $z_A$, on a $r=z-z_A$. Écrire les fonctions liantes et antiliantes qui prennent en argument la valeur de $z$."
   ]
  },
  {
   "cell_type": "code",
   "execution_count": null,
   "id": "a572934e",
   "metadata": {},
   "outputs": [],
   "source": [
    "def psi_liante(z): #a completer\n",
    "    return\n",
    "def psi_antiliante(z): #a completer\n",
    "    return"
   ]
  },
  {
   "cell_type": "markdown",
   "id": "2f3800df",
   "metadata": {},
   "source": [
    "Tracer les fonctions liantes et antiliantes en fonction de $z$ sur l'intervalle $[-5; 5]$."
   ]
  },
  {
   "cell_type": "code",
   "execution_count": null,
   "id": "11f13fe4",
   "metadata": {},
   "outputs": [],
   "source": [
    "# Votre code ici"
   ]
  },
  {
   "cell_type": "markdown",
   "id": "f876a00c",
   "metadata": {},
   "source": [
    "## Partie 4 : Orbitales moléculaires en 3D\n",
    "\n",
    "### Méthodologie\n",
    "\n",
    "1. Générer aléatoirement 10 000 points dans une boîte de dimensions $2 \\times 2 \\times 2$ centrée sur l'origine.\n",
    "2. Calculer la valeur de l'orbitale moléculaire (liante ou antiliante) en chaque point.\n",
    "3. Colorer les points :\n",
    "   - Rouge pour les valeurs positives\n",
    "   - Bleu pour les valeurs négatives\n",
    "4. Représenter ces points dans un graphique 3D."
   ]
  },
  {
   "cell_type": "code",
   "execution_count": null,
   "id": "ebe5ec41",
   "metadata": {},
   "outputs": [],
   "source": [
    "import numpy as np\n",
    "import matplotlib.pyplot as plt\n",
    "from mpl_toolkits.mplot3d import Axes3D\n",
    "%matplotlib notebook\n",
    "\n"
   ]
  },
  {
   "cell_type": "code",
   "execution_count": null,
   "id": "dd8bec63",
   "metadata": {},
   "outputs": [],
   "source": [
    "\n"
   ]
  },
  {
   "cell_type": "code",
   "execution_count": null,
   "id": "fa9c9d48",
   "metadata": {},
   "outputs": [],
   "source": [
    "import numpy as np\n",
    "import matplotlib.pyplot as plt\n",
    "from mpl_toolkits.mplot3d import Axes3D\n",
    "from skimage.measure import marching_cubes\n",
    "\n"
   ]
  },
  {
   "cell_type": "code",
   "execution_count": null,
   "id": "34189943",
   "metadata": {},
   "outputs": [],
   "source": []
  }
 ],
 "metadata": {
  "kernelspec": {
   "display_name": "Python 3 (ipykernel)",
   "language": "python",
   "name": "python3"
  },
  "language_info": {
   "codemirror_mode": {
    "name": "ipython",
    "version": 3
   },
   "file_extension": ".py",
   "mimetype": "text/x-python",
   "name": "python",
   "nbconvert_exporter": "python",
   "pygments_lexer": "ipython3",
   "version": "3.11.9"
  }
 },
 "nbformat": 4,
 "nbformat_minor": 5
}
