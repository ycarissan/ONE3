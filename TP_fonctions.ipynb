{
 "cells": [
  {
   "cell_type": "markdown",
   "id": "e72cda7a",
   "metadata": {},
   "source": [
    "# TP : Tracé de courbes, calcul d'intégrales et visualisation de l'aire sous la courbe\n",
    "\n",
    "## Objectifs pédagogiques\n",
    "- Se familiariser avec le tracé de courbes 1D en Python.\n",
    "- Comprendre et calculer des intégrales définies en 1D.\n",
    "- Apprendre à représenter graphiquement l’aire sous une courbe pour illustrer une intégrale.\n",
    "\n",
    "---\n",
    "\n",
    "## Introduction\n",
    "\n",
    "Ce TP a pour but de travailler sur la représentation graphique de fonctions mathématiques et leur analyse numérique à travers le calcul d'intégrales définies. L'intégrale définie d'une fonction sur un intervalle correspond à l'aire sous la courbe entre deux points. Ce concept sera illustré à l’aide d'outils Python.\n",
    "\n",
    "---\n",
    "\n",
    "## Méthode\n",
    "\n",
    "### Étape 1 : Tracé de courbes 1D\n",
    "1. **Définition des fonctions** :\n",
    "   - Étudier des fonctions simples comme $f(x) = x^2$, $f(x) = \\sin(x)$, ou $f(x) = e^{-x^2}$.\n",
    "2. **Tracé graphique** :\n",
    "   - Utiliser la bibliothèque **Matplotlib** pour représenter ces fonctions sur un intervalle donné.\n",
    "   - Ajouter des éléments comme des titres, des légendes, et des étiquettes sur les axes.\n",
    "\n",
    "---\n",
    "\n",
    "### Étape 2 : Calcul d'intégrales définies\n",
    "1. **Concept** :\n",
    "   - L'intégrale définie $\\int_a^b f(x) \\, dx$ représente l’aire sous la courbe $f(x)$ entre les bornes $x = a$ et $x = b$.\n",
    "   - Utiliser **`scipy.integrate.quad`** pour calculer cette intégrale de manière numérique.\n",
    "2. **Exemples** :\n",
    "   - Calculer $\\int_0^1 x^2 \\, dx$.\n",
    "   - Calculer $\\int_0^\\pi \\sin(x) \\, dx$.\n",
    "   - Comparer les résultats numériques avec les valeurs analytiques (si disponibles).\n",
    "\n",
    "---\n",
    "\n",
    "### Étape 3 : Visualisation de l’aire sous la courbe\n",
    "1. **Superposition de l’aire** :\n",
    "   - Utiliser Matplotlib pour afficher la courbe de $f(x)$.\n",
    "   - Représenter l’aire sous la courbe sur l’intervalle d'intégration à l’aide de la fonction **`fill_between`**.\n",
    "2. **Personnalisation du graphique** :\n",
    "   - Ajouter une légende indiquant l’intégrale calculée.\n",
    "   - Mettre en évidence l'intervalle d'intégration avec des traits verticaux.\n",
    "\n",
    "---\n",
    "\n",
    "## Déroulement du TP\n",
    "\n",
    "### Activité 1 : Tracé simple\n",
    "- Définir et tracer la courbe de $f(x) = x^2$ sur l’intervalle $[-1; 3]$.\n",
    "\n",
    "### Activité 2 : Calcul d’intégrales\n",
    "- Calculer l’intégrale de $f(x) = x^2$ sur $[0; 2]$.\n",
    "- Comparer le résultat avec la valeur analytique.\n",
    "\n",
    "### Activité 3 : Visualisation\n",
    "- Afficher la courbe de $f(x)$ sur $[0; 2]$.\n",
    "- Mettre en évidence l’aire sous la courbe en remplissant la région correspondante.\n",
    "\n",
    "### Activité 4 : Étendre à d'autres fonctions\n",
    "- Réaliser les mêmes étapes pour\n",
    "   * $f(x) = \\sin(x)$ sur $[-\\pi/2; 2\\pi]$ en intégrant sur $[0; \\pi]$\n",
    "   * $f(x) = e^{-x^2}$ sur $[-3; 4]$ en intégrant sur $[-2; 2]$ (puis sur en intégrant $[-\\infty; \\infty]$).\n",
    "\n",
    "---\n",
    "\n",
    "## Exemple de visualisation attendue\n",
    "1. Une courbe représentant $f(x)$ sur un intervalle donné.\n",
    "2. Une région colorée sous la courbe indiquant l’aire correspondant à l'intégrale.\n",
    "3. Une légende affichant la valeur de l’intégrale calculée.\n",
    "\n",
    "---\n"
   ]
  },
  {
   "cell_type": "code",
   "execution_count": null,
   "id": "ca6541ad",
   "metadata": {},
   "outputs": [],
   "source": [
    "# Importer numpy et matplotlib\n",
    "# Importer la fonction quad de scipy.integrate"
   ]
  },
  {
   "cell_type": "markdown",
   "id": "50cf1ae1",
   "metadata": {},
   "source": [
    "Definir la fonction $f(x)=x^2$"
   ]
  },
  {
   "cell_type": "code",
   "execution_count": null,
   "id": "9fd56ecf",
   "metadata": {},
   "outputs": [],
   "source": [
    "def f(x):\n",
    "    return # à modifier"
   ]
  },
  {
   "cell_type": "markdown",
   "id": "c0172ba7",
   "metadata": {},
   "source": [
    "Générer une liste de valeurs pour $x$ et $f(x)$ en utilisant la fonction `numpy.linspace` qui prend comme argument:\n",
    " * la valeur de début de l'intervalle\n",
    " * la valeur de fin de l'intervalle\n",
    " * le nombre de points"
   ]
  },
  {
   "cell_type": "code",
   "execution_count": null,
   "id": "7e97b2e6",
   "metadata": {},
   "outputs": [],
   "source": [
    "# Votre code ici"
   ]
  },
  {
   "cell_type": "markdown",
   "id": "8929c86d",
   "metadata": {},
   "source": [
    "Tracer $f(x)$ en utilisant `matplotlib.pyplot.plot`."
   ]
  },
  {
   "cell_type": "code",
   "execution_count": null,
   "id": "46c1b69a",
   "metadata": {},
   "outputs": [],
   "source": [
    "# Votre code ici"
   ]
  },
  {
   "cell_type": "markdown",
   "id": "f28c016c",
   "metadata": {},
   "source": [
    "Calculer l'intégrale de $f(x)$ entre deux bornes grâce à la fonction `quad` qui prend comme argument :\n",
    " * le nom de la fonction à intégrer\n",
    " * la borne inférieure du domaine d'intégration\n",
    " * la borne supérieure du domaine d'intégration"
   ]
  },
  {
   "cell_type": "code",
   "execution_count": null,
   "id": "23ddb29b",
   "metadata": {},
   "outputs": [],
   "source": [
    "#Votre code ici"
   ]
  },
  {
   "cell_type": "markdown",
   "id": "4aa75826",
   "metadata": {},
   "source": [
    "Tracer la courbe et remplir l'aire sous la courbe grâce à la fonction `matplotlib.plot.fill_between` qui prend comme argument :\n",
    " * x\n",
    " * f(x)\n",
    " * `where` : une condition de domaine\n",
    " * `color` : une couleur\n",
    " * `alpha` : une valeur de transparence (1 opaque, 0 invisible)\n",
    " * `label` : un label pour la légende\n",
    " \n",
    "et `matplotlib.plot.axvline` qui permet de tracer des lignes verticales qui prend comme argument :\n",
    " * la valeur de x à laquelle tracer la verticale\n",
    " * `color` : une couleur\n",
    " * `label` : un label"
   ]
  },
  {
   "cell_type": "code",
   "execution_count": null,
   "id": "15caba94",
   "metadata": {},
   "outputs": [],
   "source": [
    "# Votre code ici"
   ]
  },
  {
   "cell_type": "markdown",
   "id": "a8786319",
   "metadata": {},
   "source": [
    "Recommencer la même procédure pour les fonctions données en introduction"
   ]
  },
  {
   "cell_type": "code",
   "execution_count": null,
   "id": "01d6343c",
   "metadata": {},
   "outputs": [],
   "source": [
    "# Votre code ici"
   ]
  },
  {
   "cell_type": "code",
   "execution_count": null,
   "id": "6880e2cf",
   "metadata": {},
   "outputs": [],
   "source": [
    "# Votre code ici"
   ]
  },
  {
   "cell_type": "code",
   "execution_count": null,
   "id": "6542b623",
   "metadata": {},
   "outputs": [],
   "source": [
    "# Votre code ici"
   ]
  },
  {
   "cell_type": "code",
   "execution_count": null,
   "id": "15d34cf6",
   "metadata": {},
   "outputs": [],
   "source": [
    "# Votre code ici"
   ]
  },
  {
   "cell_type": "code",
   "execution_count": null,
   "id": "31c70d19",
   "metadata": {},
   "outputs": [],
   "source": [
    "#     ..."
   ]
  }
 ],
 "metadata": {
  "kernelspec": {
   "display_name": "Python 3 (ipykernel)",
   "language": "python",
   "name": "python3"
  },
  "language_info": {
   "codemirror_mode": {
    "name": "ipython",
    "version": 3
   },
   "file_extension": ".py",
   "mimetype": "text/x-python",
   "name": "python",
   "nbconvert_exporter": "python",
   "pygments_lexer": "ipython3",
   "version": "3.11.9"
  }
 },
 "nbformat": 4,
 "nbformat_minor": 5
}
