{
 "cells": [
  {
   "cell_type": "markdown",
   "id": "a4e79735",
   "metadata": {},
   "source": [
    "# Présentation générale\n",
    "\n",
    "À l'issu de ces travaux, vous devriez être capables d'utiliser des bibliothèques scientifiques pour faire de la modélisation en python.\n",
    "\n",
    "Ces exercices de programmation sont divisés en trois travaux pratiques:\n",
    " 1. Calcul de $\\pi$ par une méthode stochastique (1 heure) \n",
    " 1. Calcul d'intégrales en utilisant les bibliothèques numpy et scipy (1 heure)\n",
    " 1. Application des méthodes précédentes à la théorie des orbitales moléculaires en chimie (7 heures)\n",
    " "
   ]
  },
  {
   "cell_type": "markdown",
   "id": "ddacdb0c",
   "metadata": {},
   "source": [
    "# TP : Estimation de $\\pi$ par une méthode stochastique (Monte-Carlo)\n",
    "\n",
    "## Objectifs pédagogiques\n",
    "- Introduire la méthode Monte-Carlo pour résoudre des problèmes numériques.\n",
    "- Comprendre le lien entre probabilités et géométrie.\n",
    "- Illustrer comment une simulation numérique peut estimer une constante mathématique.\n",
    "- Étudier la convergence stochastique et les facteurs influençant la précision.\n",
    "\n",
    "---\n",
    "\n",
    "## Introduction\n",
    "\n",
    "La valeur de $\\pi$ peut être estimée de manière probabiliste en utilisant une méthode simple basée sur la géométrie. Le principe repose sur le rapport des aires entre un carré et un cercle inscrit. Ce TP explore cette approche à travers une simulation numérique.\n",
    "\n",
    "**Idée principale** :\n",
    "- On simule des points aléatoires dans un carré et on calcule la proportion de ces points qui tombent à l'intérieur d'un disque inscrit.\n",
    "- Ce rapport est directement lié à la valeur de $\\pi$.\n",
    "\n",
    "---\n",
    "\n",
    "## Méthode\n",
    "\n",
    "### **1. Concept géométrique**\n",
    "- Considérons un carré de côté $2r$, centré à l'origine.\n",
    "- Un cercle de rayon $r$ est inscrit dans ce carré.\n",
    "- Les aires respectives sont :\n",
    "  - Carré : $4r^2$,\n",
    "  - Cercle : $\\pi r^2$.\n",
    "\n",
    "Le rapport entre l'aire du cercle et celle du carré est donné par :\n",
    "$$\n",
    "\\frac{\\text{Aire du cercle}}{\\text{Aire du carré}} = \\frac{\\pi r^2}{4r^2} = \\frac{\\pi}{4}.\n",
    "$$\n",
    "\n",
    "Ainsi, si nous connaissons ce rapport, nous pouvons estimer $\\pi$ via :\n",
    "$$\n",
    "\\pi \\approx 4 \\times \\text{(Proportion de points dans le cercle)}.\n",
    "$$\n",
    "\n",
    "---\n",
    "\n",
    "### **2. Simulation stochastique**\n",
    "- On génère $N$ points aléatoires $(x, y)$ uniformément dans le carré.\n",
    "- Pour chaque point, on vérifie s'il est à l'intérieur du cercle en testant la condition :\n",
    "$$\n",
    "x^2 + y^2 \\leq r^2.\n",
    "$$\n",
    "- La proportion des points à l'intérieur du cercle, notée $P$, est approximée par :\n",
    "$$\n",
    "P = \\frac{\\text{Nombre de points dans le cercle}}{\\text{Nombre total de points}}.\n",
    "$$\n",
    "- La relation avec $\\pi$ est donnée par :\n",
    "$$\n",
    "\\pi \\approx 4P.\n",
    "$$\n",
    "\n",
    "---\n",
    "\n",
    "## Points à discuter\n",
    "1. **Convergence** :\n",
    "   - Comment la précision dépend-elle du nombre de points $N$ ?\n",
    "2. **Erreurs** :\n",
    "   - Pourquoi les estimations fluctuent-elles pour de petites valeurs de $N$ ?\n",
    "\n",
    "---\n",
    "\n",
    "## Visualisation suggérée\n",
    "- **Graphique des points simulés** :\n",
    "  - Représenter le carré et le disque inscrit.\n",
    "  - Colorer les points pour distinguer ceux dans le cercle et ceux en dehors.\n",
    "- **Évolution de $\\pi$** :\n",
    "  - Tracer la valeur estimée de $\\pi$ en fonction du nombre de points $N$.\n",
    "  - Ajouter une ligne horizontale correspondant à la valeur exacte de $\\pi$ pour visualiser l'erreur.\n",
    "\n",
    "---\n",
    "## Déroulement du TP\n",
    "\n",
    "### **Étape 1 : Initialisation**\n",
    "- Fixer le rayon du cercle à $r = 1$ et considérer un carré de côté $2$.\n",
    "- Générer $N$ points aléatoires $(x, y)$ uniformément répartis dans le carré.\n",
    "\n",
    "### **Étape 2 : Calcul**\n",
    "- Déterminer combien de points $(x, y)$ satisfont $x^2 + y^2 \\leq 1$.\n",
    "- Calculer la proportion $P$ des points dans le cercle.\n",
    "- Estimer $\\pi$ avec la formule $\\pi \\approx 4P$.\n",
    "\n",
    "### **Étape 3 : Visualisation**\n",
    "- Représenter graphiquement les points dans le carré :\n",
    "  - Points à l’intérieur du cercle en une couleur.\n",
    "  - Points à l’extérieur du cercle en une autre couleur.\n",
    "- Étudier l'évolution de la précision en fonction du nombre de points $N$.\n",
    "\n",
    "---"
   ]
  },
  {
   "cell_type": "markdown",
   "id": "cff353cc",
   "metadata": {},
   "source": [
    "Importer les bibliothèques numpy pour les calculs et matplotlib pour faire des graphes"
   ]
  },
  {
   "cell_type": "code",
   "execution_count": null,
   "id": "965bda19",
   "metadata": {},
   "outputs": [],
   "source": [
    "# Votre code ici"
   ]
  },
  {
   "cell_type": "markdown",
   "id": "fb534713",
   "metadata": {},
   "source": [
    "Définir les paramètres de votre programme (nombre de points à tirer et définition du carré et du cercle)"
   ]
  },
  {
   "cell_type": "code",
   "execution_count": null,
   "id": "bc81eda5",
   "metadata": {},
   "outputs": [],
   "source": [
    "# Votre code ici"
   ]
  },
  {
   "cell_type": "markdown",
   "id": "0f87a0c1",
   "metadata": {},
   "source": [
    "Générer des points aléatoires dans le carré de côté 2*rayon\n",
    "Le tirage aléatoire se fera avec la fonction\n",
    "\n",
    "`np.random.uniform(borne_inf, borne_sup, nombre_de_points)` :\n",
    "\n",
    " * `borne_inf` est la borne inférieure de l'intervalle\n",
    " * `borne_sup` est la borne supérieure de l'intervalle\n",
    " * `nombre_de_points` est le nombre de points à tirer au hasard\n",
    " \n",
    "N'oubliez pas que pour un point il faut tirer une valeur de `x` et une valeur de `y`."
   ]
  },
  {
   "cell_type": "code",
   "execution_count": null,
   "id": "d70fa0b2",
   "metadata": {},
   "outputs": [],
   "source": [
    "# Votre code ici"
   ]
  },
  {
   "cell_type": "markdown",
   "id": "bbfee569",
   "metadata": {},
   "source": [
    "Calculer la distance au centre et déterminer si les points sont dans le cercle.\n",
    "Si un point des dans le cercle, conserver ses coordonnées dans des listes nommées `dans_le_cercle_x` et `dans_le_cercle_y`, sinon, conserver ses coordonnes dans des listes nommées `hors_du_cercle_x` et `hors_du_cercle_y`."
   ]
  },
  {
   "cell_type": "code",
   "execution_count": null,
   "id": "16e5b87c",
   "metadata": {},
   "outputs": [],
   "source": [
    "# Votre code ici"
   ]
  },
  {
   "cell_type": "markdown",
   "id": "03423c70",
   "metadata": {},
   "source": [
    "Calculer la proportion de points dans le cercle et conner une approximation de $\\pi$."
   ]
  },
  {
   "cell_type": "code",
   "execution_count": null,
   "id": "c4a72ded",
   "metadata": {},
   "outputs": [],
   "source": [
    "# Votre code ici"
   ]
  },
  {
   "cell_type": "markdown",
   "id": "7765c677",
   "metadata": {},
   "source": [
    "En utilisant la fonction scatter de `matplotlib.pyplot`, faites apparaître les points dans le cercle en bleu et les points hors du cercle en rouge.\n",
    "La fonction `matplotlib.pyplot.scatter` prendra en argument :\n",
    " * `dans_le_cercle_x` et `dans_le_cercle_y` ou `hors_du_cercle_x` et `hors_du_cercle_x`\n",
    " * un argument `color='blue'` ou `'red'`\n",
    " * un argument `label` pour la légende\n",
    "Pour que votre figure soit carrée, nous vous conseillons d'ajouter ces deux commandes:\n",
    "\n",
    "`matplotlib.pyplot.gca().set_aspect('equal', adjustable='box')`\n",
    "\n",
    "`matplotlib.pyplot.figure(figsize=(8, 8))`"
   ]
  },
  {
   "cell_type": "code",
   "execution_count": 1,
   "id": "7e392781",
   "metadata": {},
   "outputs": [],
   "source": [
    "# Votre code ici"
   ]
  },
  {
   "cell_type": "markdown",
   "id": "35900378",
   "metadata": {},
   "source": [
    "En reprenant votre code, faites une boucle sur le nombre de points à tirer par multiple de 10.\n",
    "Pour cela :\n",
    " 1. écrivez une fonction qui donne une estimation de $\\pi$ en fonction d'un seul argument, `Npoints`\n",
    " 1. Faites une boucle sur un nombre de points par multiple de 10 **en ne dépassant pas 10^7 sous peine d'attendre looooongtemps**\n",
    " 1. Tracer l'évolution de la valeur de $\\pi$ en fonction du nombre de point en utilisant la fonction `matplotlib.pyplot.plot`. On pourra utiliser une échelle logarithmique sur l'axe des abscisses : `matplotlib.pyplot.xscale(\"log\")`"
   ]
  },
  {
   "cell_type": "code",
   "execution_count": 2,
   "id": "ebb727ff",
   "metadata": {},
   "outputs": [],
   "source": [
    "# Écriture d'une fonction qui donne une estimation de 𝜋 en fonction d'un seul argument, Npoints\n",
    "def estimer_pi(Npoints):\n",
    "    return pi_estime"
   ]
  },
  {
   "cell_type": "code",
   "execution_count": null,
   "id": "b72e872b",
   "metadata": {},
   "outputs": [],
   "source": [
    "# Boucle un nombre de points par multiple de 10\n",
    "for Npts in [10,100,1000]:\n",
    "    pi_approx = estimer_pi(Npts)\n",
    "    # Votre code ici\n",
    "#Et aussi ici"
   ]
  },
  {
   "cell_type": "code",
   "execution_count": null,
   "id": "98fda00b",
   "metadata": {},
   "outputs": [],
   "source": [
    "# Tracer l'évolution de la valeur de 𝜋 en fonction du nombre de point\n",
    "# et enfin là :"
   ]
  }
 ],
 "metadata": {
  "kernelspec": {
   "display_name": "Python 3 (ipykernel)",
   "language": "python",
   "name": "python3"
  },
  "language_info": {
   "codemirror_mode": {
    "name": "ipython",
    "version": 3
   },
   "file_extension": ".py",
   "mimetype": "text/x-python",
   "name": "python",
   "nbconvert_exporter": "python",
   "pygments_lexer": "ipython3",
   "version": "3.11.9"
  }
 },
 "nbformat": 4,
 "nbformat_minor": 5
}
