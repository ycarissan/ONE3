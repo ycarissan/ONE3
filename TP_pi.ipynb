{
 "cells": [
  {
   "cell_type": "markdown",
   "id": "a4e79735",
   "metadata": {},
   "source": [
    "# Présentation générale\n",
    "\n",
    "À l'issu de ces travaux, vous devriez être capables d'utiliser des bibliothèques scientifiques pour faire de la modélisation en python.\n",
    "\n",
    "Ces exercices de programmation sont divisés en trois travaux pratiques:\n",
    " 1. Calcul de $\\pi$ par une méthode stochastique (1 heure) \n",
    " 1. Calcul d'intégrales en utilisant les bibliothèques numpy et scipy (1 heure)\n",
    " 1. Application des méthodes précédentes à la théorie des orbitales moléculaires en chimie (7 heures)\n",
    " "
   ]
  },
  {
   "cell_type": "markdown",
   "id": "ddacdb0c",
   "metadata": {},
   "source": [
    "# TP : Estimation de $\\pi$ par une méthode stochastique (Monte-Carlo)\n",
    "\n",
    "## Objectifs pédagogiques\n",
    "- Introduire la méthode Monte-Carlo pour résoudre des problèmes numériques.\n",
    "- Comprendre le lien entre probabilités et géométrie.\n",
    "- Illustrer comment une simulation numérique peut estimer une constante mathématique.\n",
    "- Étudier la convergence stochastique et les facteurs influençant la précision.\n",
    "\n",
    "---\n",
    "\n",
    "## Introduction\n",
    "\n",
    "La valeur de $\\pi$ peut être estimée de manière probabiliste en utilisant une méthode simple basée sur la géométrie. Le principe repose sur le rapport des aires entre un carré et un cercle inscrit. Ce TP explore cette approche à travers une simulation numérique.\n",
    "\n",
    "**Idée principale** :\n",
    "- On simule des points aléatoires dans un carré et on calcule la proportion de ces points qui tombent à l'intérieur d'un disque inscrit.\n",
    "- Ce rapport est directement lié à la valeur de $\\pi$.\n",
    "\n",
    "---\n",
    "\n",
    "## Méthode\n",
    "\n",
    "### **1. Concept géométrique**\n",
    "- Considérons un carré de côté $2r$, centré à l'origine.\n",
    "- Un cercle de rayon $r$ est inscrit dans ce carré.\n",
    "- Les aires respectives sont :\n",
    "  - Carré : $4r^2$,\n",
    "  - Cercle : $\\pi r^2$.\n",
    "\n",
    "Le rapport entre l'aire du cercle et celle du carré est donné par :\n",
    "$$\n",
    "\\frac{\\text{Aire du cercle}}{\\text{Aire du carré}} = \\frac{\\pi r^2}{4r^2} = \\frac{\\pi}{4}.\n",
    "$$\n",
    "\n",
    "Ainsi, si nous connaissons ce rapport, nous pouvons estimer $\\pi$ via :\n",
    "$$\n",
    "\\pi \\approx 4 \\times \\text{(Proportion de points dans le cercle)}.\n",
    "$$\n",
    "\n",
    "---\n",
    "\n",
    "### **2. Simulation stochastique**\n",
    "- On génère $N$ points aléatoires $(x, y)$ uniformément dans le carré.\n",
    "- Pour chaque point, on vérifie s'il est à l'intérieur du cercle en testant la condition :\n",
    "$$\n",
    "x^2 + y^2 \\leq r^2.\n",
    "$$\n",
    "- La proportion des points à l'intérieur du cercle, notée $P$, est approximée par :\n",
    "$$\n",
    "P = \\frac{\\text{Nombre de points dans le cercle}}{\\text{Nombre total de points}}.\n",
    "$$\n",
    "- La relation avec $\\pi$ est donnée par :\n",
    "$$\n",
    "\\pi \\approx 4P.\n",
    "$$\n",
    "\n",
    "---\n",
    "\n",
    "## Déroulement du TP\n",
    "\n",
    "### **Étape 1 : Initialisation**\n",
    "- Fixer le rayon du cercle à $r = 1$ et considérer un carré de côté $2$.\n",
    "- Générer $N$ points aléatoires $(x, y)$ uniformément répartis dans le carré.\n",
    "\n",
    "### **Étape 2 : Calcul**\n",
    "- Déterminer combien de points $(x, y)$ satisfont $x^2 + y^2 \\leq 1$.\n",
    "- Calculer la proportion $P$ des points dans le cercle.\n",
    "- Estimer $\\pi$ avec la formule $\\pi \\approx 4P$.\n",
    "\n",
    "### **Étape 3 : Visualisation**\n",
    "- Représenter graphiquement les points dans le carré :\n",
    "  - Points à l’intérieur du cercle en une couleur.\n",
    "  - Points à l’extérieur du cercle en une autre couleur.\n",
    "- Étudier l'évolution de la précision en fonction du nombre de points $N$.\n",
    "\n",
    "---\n",
    "\n",
    "## Points à discuter\n",
    "1. **Convergence** :\n",
    "   - Comment la précision dépend-elle du nombre de points $N$ ?\n",
    "   - Introduire la loi des grands nombres.\n",
    "2. **Erreurs** :\n",
    "   - Pourquoi les estimations fluctuent-elles pour de petites valeurs de $N$ ?\n",
    "3. **Applications** :\n",
    "   - Où la méthode Monte-Carlo est-elle utilisée dans des contextes réels ?\n",
    "\n",
    "---\n",
    "\n",
    "## Extensions possibles\n",
    "- Étudier des variantes avec des régions d'intégration différentes (ellipses, polygones).\n",
    "- Comparer la méthode Monte-Carlo avec des méthodes numériques classiques pour le calcul de $\\pi$.\n",
    "- Étendre la simulation à des dimensions supérieures (ex. : estimation du volume d'une sphère).\n",
    "\n",
    "---\n",
    "\n",
    "## Visualisation suggérée\n",
    "- **Graphique des points simulés** :\n",
    "  - Représenter le carré et le disque inscrit.\n",
    "  - Colorer les points pour distinguer ceux dans le cercle et ceux en dehors.\n",
    "- **Évolution de $\\pi$** :\n",
    "  - Tracer la valeur estimée de $\\pi$ en fonction du nombre de points $N$.\n",
    "  - Ajouter une ligne horizontale correspondant à la valeur exacte de $\\pi$ pour visualiser l'erreur.\n",
    "\n",
    "---"
   ]
  },
  {
   "cell_type": "markdown",
   "id": "cff353cc",
   "metadata": {},
   "source": [
    "Importer les bibliothèques numpy pour les calculs et matplotlib pour faire des graphes"
   ]
  },
  {
   "cell_type": "code",
   "execution_count": null,
   "id": "965bda19",
   "metadata": {},
   "outputs": [],
   "source": [
    "# Votre code ici"
   ]
  },
  {
   "cell_type": "markdown",
   "id": "fb534713",
   "metadata": {},
   "source": [
    "Définir les paramètres de votre programme (nombre de points à tirer et définition du carré et du cercle)"
   ]
  },
  {
   "cell_type": "code",
   "execution_count": null,
   "id": "bc81eda5",
   "metadata": {},
   "outputs": [],
   "source": [
    "# Votre code ici"
   ]
  },
  {
   "cell_type": "markdown",
   "id": "0f87a0c1",
   "metadata": {},
   "source": [
    "Générer des points aléatoires dans le carré de côté 2*rayon\n",
    "Le tirage aléatoire se fera avec la fonction\n",
    "\n",
    "`np.random.uniform(borne_inf, borne_sup, nombre_de_points)` :\n",
    "\n",
    " * `borne_inf` est la borne inférieure de l'intervalle\n",
    " * `borne_sup` est la borne supérieure de l'intervalle\n",
    " * `nombre_de_points` est le nombre de points à tirer au hasard\n",
    " \n",
    "N'oubliez pas que pour un point il faut tirer une valeur de `x` et une valeur de `y`."
   ]
  },
  {
   "cell_type": "code",
   "execution_count": null,
   "id": "d70fa0b2",
   "metadata": {},
   "outputs": [],
   "source": [
    "# Votre code ici"
   ]
  },
  {
   "cell_type": "markdown",
   "id": "bbfee569",
   "metadata": {},
   "source": [
    "Calculer la distance au centre et déterminer si les points sont dans le cercle.\n",
    "Si un point des dans le cercle, conserver ses coordonnées dans des listes nommées `dans_le_cercle_x` et `dans_le_cercle_y`, sinon, conserver ses coordonnes dans des listes nommées `hors_du_cercle_x` et `hors_du_cercle_y`."
   ]
  },
  {
   "cell_type": "code",
   "execution_count": null,
   "id": "16e5b87c",
   "metadata": {},
   "outputs": [],
   "source": [
    "# Votre code ici"
   ]
  },
  {
   "cell_type": "markdown",
   "id": "03423c70",
   "metadata": {},
   "source": [
    "Calculer la proportion de points dans le cercle et conner une approximation de $\\pi$."
   ]
  },
  {
   "cell_type": "code",
   "execution_count": null,
   "id": "c4a72ded",
   "metadata": {},
   "outputs": [],
   "source": [
    "# Votre code ici"
   ]
  },
  {
   "cell_type": "markdown",
   "id": "7765c677",
   "metadata": {},
   "source": [
    "En utilisant la fonction scatter de `matplotlib.pyplot`, faites apparaître les points dans le cercle en bleu et les points hors du cercle en rouge.\n",
    "La fonction `matplotlib.pyplot.scatter` prendra en argument :\n",
    " * `dans_le_cercle_x` et `dans_le_cercle_y` ou `hors_du_cercle_x` et `hors_du_cercle_x`\n",
    " * un argument `color='blue'` ou `'red'`\n",
    " * un argument `label` pour la légende\n",
    "Pour que votre figure soit carrée, nous vous conseillons d'ajouter ces deux commandes:\n",
    "\n",
    "`matplotlib.pyplot.gca().set_aspect('equal', adjustable='box')`\n",
    "\n",
    "`matplotlib.pyplot.figure(figsize=(8, 8))`"
   ]
  },
  {
   "cell_type": "code",
   "execution_count": 1,
   "id": "7e392781",
   "metadata": {},
   "outputs": [],
   "source": [
    "# Votre code ici"
   ]
  },
  {
   "cell_type": "markdown",
   "id": "35900378",
   "metadata": {},
   "source": [
    "En reprenant votre code, faites une boucle sur le nombre de points à tirer par multiple de 10.\n",
    "Pour cela :\n",
    " 1. écrivez une fonction qui donne une estimation de $\\pi$ en fonction d'un seul argument, `Npoints`\n",
    " 1. Faites une boucle sur un nombre de points par multiple de 10 **en ne dépassant pas 10^7 sous peine d'attendre looooongtemps**\n",
    " 1. Tracer l'évolution de la valeur de $\\pi$ en fonction du nombre de point en utilisant la fonction `matplotlib.pyplot.plot`. On pourra utiliser une échelle logarithmique sur l'axe des abscisses : `matplotlib.pyplot.xscale(\"log\")`"
   ]
  },
  {
   "cell_type": "code",
   "execution_count": 2,
   "id": "ebb727ff",
   "metadata": {},
   "outputs": [],
   "source": [
    "# Écriture d'une fonction qui donne une estimation de 𝜋 en fonction d'un seul argument, Npoints\n",
    "def estimer_pi(Npoints):\n",
    "    return pi_estime"
   ]
  },
  {
   "cell_type": "code",
   "execution_count": null,
   "id": "b72e872b",
   "metadata": {},
   "outputs": [],
   "source": [
    "# Boucle un nombre de points par multiple de 10\n",
    "for Npts in [10,100,1000]:\n",
    "    pi_approx = estimer_pi(Npts)\n",
    "    # Votre code ici\n",
    "#Et aussi ici"
   ]
  },
  {
   "cell_type": "code",
   "execution_count": null,
   "id": "98fda00b",
   "metadata": {},
   "outputs": [],
   "source": [
    "# Tracer l'évolution de la valeur de 𝜋 en fonction du nombre de point\n",
    "# et enfin là :"
   ]
  },
  {
   "cell_type": "code",
   "execution_count": 7,
   "id": "8a7cb39f",
   "metadata": {
    "scrolled": false
   },
   "outputs": [
    {
     "data": {
      "image/png": "[encoded data removed]",
      "text/plain": [
       "<Figure size 1200x600 with 2 Axes>"
      ]
     },
     "metadata": {},
     "output_type": "display_data"
    }
   ],
   "source": []
  },
  {
   "cell_type": "markdown",
   "id": "e72cda7a",
   "metadata": {},
   "source": [
    "# TP : Tracé de courbes, calcul d'intégrales et visualisation de l'aire sous la courbe\n",
    "\n",
    "## Objectifs pédagogiques\n",
    "- Se familiariser avec le tracé de courbes 1D en Python.\n",
    "- Comprendre et calculer des intégrales définies en 1D.\n",
    "- Apprendre à représenter graphiquement l’aire sous une courbe pour illustrer une intégrale.\n",
    "\n",
    "---\n",
    "\n",
    "## Introduction\n",
    "\n",
    "Ce TP a pour but de travailler sur la représentation graphique de fonctions mathématiques et leur analyse numérique à travers le calcul d'intégrales définies. L'intégrale définie d'une fonction sur un intervalle correspond à l'aire sous la courbe entre deux points. Ce concept sera illustré à l’aide d'outils Python.\n",
    "\n",
    "---\n",
    "\n",
    "## Méthode\n",
    "\n",
    "### Étape 1 : Tracé de courbes 1D\n",
    "1. **Définition des fonctions** :\n",
    "   - Étudier des fonctions simples comme $f(x) = x^2$, $f(x) = \\sin(x)$, ou $f(x) = e^{-x^2}$.\n",
    "2. **Tracé graphique** :\n",
    "   - Utiliser la bibliothèque **Matplotlib** pour représenter ces fonctions sur un intervalle donné.\n",
    "   - Ajouter des éléments comme des titres, des légendes, et des étiquettes sur les axes.\n",
    "\n",
    "---\n",
    "\n",
    "### Étape 2 : Calcul d'intégrales définies\n",
    "1. **Concept** :\n",
    "   - L'intégrale définie $\\int_a^b f(x) \\, dx$ représente l’aire sous la courbe $f(x)$ entre les bornes $x = a$ et $x = b$.\n",
    "   - Utiliser **`scipy.integrate.quad`** pour calculer cette intégrale de manière numérique.\n",
    "2. **Exemples** :\n",
    "   - Calculer $\\int_0^1 x^2 \\, dx$.\n",
    "   - Calculer $\\int_0^\\pi \\sin(x) \\, dx$.\n",
    "   - Comparer les résultats numériques avec les valeurs analytiques (si disponibles).\n",
    "\n",
    "---\n",
    "\n",
    "### Étape 3 : Visualisation de l’aire sous la courbe\n",
    "1. **Superposition de l’aire** :\n",
    "   - Utiliser Matplotlib pour afficher la courbe de $f(x)$.\n",
    "   - Représenter l’aire sous la courbe sur l’intervalle d'intégration à l’aide de la fonction **`fill_between`**.\n",
    "2. **Personnalisation du graphique** :\n",
    "   - Ajouter une légende indiquant l’intégrale calculée.\n",
    "   - Mettre en évidence l'intervalle d'intégration avec des traits verticaux.\n",
    "\n",
    "---\n",
    "\n",
    "## Déroulement du TP\n",
    "\n",
    "### Activité 1 : Tracé simple\n",
    "- Définir et tracer la courbe de $f(x) = x^2$ sur l’intervalle $[0, 2]$.\n",
    "\n",
    "### Activité 2 : Calcul d’intégrales\n",
    "- Calculer l’intégrale de $f(x) = x^2$ sur $[0, 2]$.\n",
    "- Comparer le résultat avec la valeur analytique.\n",
    "\n",
    "### Activité 3 : Visualisation\n",
    "- Afficher la courbe de $f(x)$ sur $[0, 2]$.\n",
    "- Mettre en évidence l’aire sous la courbe en remplissant la région correspondante.\n",
    "\n",
    "### Activité 4 : Étendre à d'autres fonctions\n",
    "- Réaliser les mêmes étapes pour $f(x) = \\sin(x)$ sur $[0, \\pi]$ et $f(x) = e^{-x^2}$ sur $[-2, 2]$.\n",
    "\n",
    "---\n",
    "\n",
    "## Exemple de visualisation attendue\n",
    "1. Une courbe représentant $f(x)$ sur un intervalle donné.\n",
    "2. Une région colorée sous la courbe indiquant l’aire correspondant à l'intégrale.\n",
    "3. Une légende affichant la valeur de l’intégrale calculée.\n",
    "\n",
    "---\n",
    "\n",
    "## Points de discussion\n",
    "1. **Précision des méthodes numériques** :\n",
    "   - Comment les méthodes numériques se comparent-elles aux solutions analytiques ?\n",
    "   - Quels facteurs influencent la précision (par exemple, la discrétisation) ?\n",
    "2. **Représentation graphique** :\n",
    "   - Comment améliorer la clarté et l’esthétique des graphiques ?\n",
    "   - Pourquoi est-il important de visualiser l'aire sous la courbe pour interpréter une intégrale ?\n",
    "\n",
    "---\n",
    "\n",
    "## Extensions possibles\n",
    "- Étudier des fonctions à singularité, par exemple $f(x) = \\frac{1}{x}$ sur $[1, 2]$.\n",
    "- Travailler avec des limites infinies, comme $\\int_0^\\infty e^{-x} \\, dx$.\n",
    "- Appliquer ces concepts pour modéliser une application physique ou économique."
   ]
  },
  {
   "cell_type": "code",
   "execution_count": null,
   "id": "119e49cb",
   "metadata": {},
   "outputs": [],
   "source": [
    "import numpy as np\n",
    "import matplotlib.pyplot as plt\n",
    "\n",
    "# Définir la fonction\n",
    "def f(x):\n",
    "    return x**2\n",
    "\n",
    "# Générer des points pour x\n",
    "x = np.linspace(-2, 4, 100)\n",
    "\n",
    "# Tracer la courbe\n",
    "plt.figure(figsize=(8, 6))\n",
    "plt.plot(x, f(x), label=r\"$f(x) = x^2$\", color=\"blue\")\n",
    "plt.title(\"Tracé de la fonction $f(x) = x^2$\")\n",
    "plt.xlabel(\"x\")\n",
    "plt.ylabel(\"f(x)\")\n",
    "plt.legend()\n",
    "plt.grid()\n",
    "plt.show()"
   ]
  },
  {
   "cell_type": "code",
   "execution_count": null,
   "id": "e7dcb3a3",
   "metadata": {},
   "outputs": [],
   "source": [
    "from scipy.integrate import quad\n",
    "\n",
    "# Calculer l'intégrale définie\n",
    "a, b = 0, 2  # Bornes d'intégration\n",
    "result, _ = quad(f, a, b)\n",
    "\n",
    "# Afficher le résultat\n",
    "print(f\"L'intégrale de f(x) = x^2 sur [{a}, {b}] est : {result}\")\n"
   ]
  },
  {
   "cell_type": "code",
   "execution_count": null,
   "id": "15caba94",
   "metadata": {},
   "outputs": [],
   "source": [
    "# Tracer la courbe et remplir l'aire sous la courbe\n",
    "plt.figure(figsize=(8, 6))\n",
    "plt.plot(x, f(x), label=r\"$f(x) = x^2$\", color=\"blue\")\n",
    "plt.fill_between(x, f(x), where=(x >= a) & (x <= b), color=\"lightblue\", alpha=0.5, label=\"Aire sous la courbe\")\n",
    "plt.axvline(a, color=\"black\", linestyle=\"--\", label=f\"x = {a}\")\n",
    "plt.axvline(b, color=\"black\", linestyle=\"--\", label=f\"x = {b}\")\n",
    "plt.title(\"Aire sous la courbe $f(x) = x^2$\")\n",
    "plt.xlabel(\"x\")\n",
    "plt.ylabel(\"f(x)\")\n",
    "plt.legend()\n",
    "plt.grid()\n",
    "plt.show()\n"
   ]
  },
  {
   "cell_type": "code",
   "execution_count": null,
   "id": "d76fd4ff",
   "metadata": {},
   "outputs": [],
   "source": [
    "# Définir une nouvelle fonction\n",
    "def g(x):\n",
    "    return np.sin(x)\n",
    "\n",
    "# Bornes\n",
    "a0, b0 = -np.pi, 2*np.pi\n",
    "a, b = 0, np.pi\n",
    "\n",
    "# Calculer l'intégrale\n",
    "result, _ = quad(g, a, b)\n",
    "print(f\"L'intégrale de g(x) = sin(x) sur [{a}, {b}] est : {result}\")\n",
    "\n",
    "# Visualisation\n",
    "x = np.linspace(a0, b0, 100)\n",
    "plt.figure(figsize=(8, 6))\n",
    "plt.plot(x, g(x), label=r\"$g(x) = \\sin(x)$\", color=\"green\")\n",
    "plt.fill_between(x, g(x), where=(x >= a) & (x <= b), color=\"lightgreen\", alpha=0.5, label=\"Aire sous la courbe\")\n",
    "plt.axvline(a, color=\"black\", linestyle=\"--\", label=f\"x = {a}\")\n",
    "plt.axvline(b, color=\"black\", linestyle=\"--\", label=f\"x = {b}\")\n",
    "plt.title(\"Aire sous la courbe $g(x) = \\sin(x)$\")\n",
    "plt.xlabel(\"x\")\n",
    "plt.ylabel(\"g(x)\")\n",
    "plt.legend()\n",
    "plt.grid()\n",
    "plt.show()\n"
   ]
  },
  {
   "cell_type": "code",
   "execution_count": null,
   "id": "1555c73d",
   "metadata": {},
   "outputs": [],
   "source": [
    "import numpy as np\n",
    "import matplotlib.pyplot as plt\n",
    "\n",
    "# Définir la fonction\n",
    "def h(x):\n",
    "    return np.exp(-x**2)\n",
    "\n",
    "# Générer des points pour x\n",
    "a0, b0 = -3, 3\n",
    "x = np.linspace(a0, b0, 200)\n",
    "\n",
    "# Tracer la courbe\n",
    "plt.figure(figsize=(8, 6))\n",
    "plt.plot(x, h(x), label=r\"$f(x) = e^{-x^2}$\", color=\"purple\")\n",
    "plt.title(\"Tracé de la fonction $f(x) = e^{-x^2}$\")\n",
    "plt.xlabel(\"x\")\n",
    "plt.ylabel(\"f(x)\")\n",
    "plt.legend()\n",
    "plt.grid()\n",
    "plt.show()\n"
   ]
  },
  {
   "cell_type": "code",
   "execution_count": null,
   "id": "59c5ef9a",
   "metadata": {},
   "outputs": [],
   "source": [
    "from scipy.integrate import quad\n",
    "\n",
    "# Calculer l'intégrale définie\n",
    "a, b = -1, 2  # Bornes d'intégration\n",
    "result, _ = quad(h, a, b)\n",
    "\n",
    "# Afficher le résultat\n",
    "print(f\"L'intégrale de f(x) = e^(-x^2) sur [{a}, {b}] est : {result}\")\n"
   ]
  },
  {
   "cell_type": "code",
   "execution_count": null,
   "id": "b81ac738",
   "metadata": {},
   "outputs": [],
   "source": [
    "# Tracer la courbe et remplir l'aire sous la courbe\n",
    "plt.figure(figsize=(8, 6))\n",
    "plt.plot(x, h(x), label=r\"$f(x) = e^{-x^2}$\", color=\"purple\")\n",
    "plt.fill_between(x, h(x), where=(x >= a) & (x <= b), color=\"violet\", alpha=0.5, label=\"Aire sous la courbe\")\n",
    "plt.axvline(a, color=\"black\", linestyle=\"--\", label=f\"x = {a}\")\n",
    "plt.axvline(b, color=\"black\", linestyle=\"--\", label=f\"x = {b}\")\n",
    "plt.title(\"Aire sous la courbe $f(x) = e^{-x^2}$\")\n",
    "plt.xlabel(\"x\")\n",
    "plt.ylabel(\"f(x)\")\n",
    "plt.legend()\n",
    "plt.grid()\n",
    "plt.show()\n"
   ]
  },
  {
   "cell_type": "code",
   "execution_count": null,
   "id": "01d6343c",
   "metadata": {},
   "outputs": [],
   "source": []
  }
 ],
 "metadata": {
  "kernelspec": {
   "display_name": "Python 3 (ipykernel)",
   "language": "python",
   "name": "python3"
  },
  "language_info": {
   "codemirror_mode": {
    "name": "ipython",
    "version": 3
   },
   "file_extension": ".py",
   "mimetype": "text/x-python",
   "name": "python",
   "nbconvert_exporter": "python",
   "pygments_lexer": "ipython3",
   "version": "3.12.3"
  }
 },
 "nbformat": 4,
 "nbformat_minor": 5
}
